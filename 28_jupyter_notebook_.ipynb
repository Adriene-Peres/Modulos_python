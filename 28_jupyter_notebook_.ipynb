{
 "cells": [
  {
   "cell_type": "markdown",
   "id": "cb7b3d84-3f2c-4615-abce-69f455d2ed7a",
   "metadata": {},
   "source": [
    "# Esse é o meu título\n",
    "Essa linha cria a variáel `a`."
   ]
  },
  {
   "cell_type": "code",
   "execution_count": 2,
   "id": "e7d1c98d-c17a-4527-9661-8812cd71453b",
   "metadata": {},
   "outputs": [],
   "source": [
    "a = 2"
   ]
  },
  {
   "cell_type": "code",
   "execution_count": 3,
   "id": "5f515d09-9651-4d47-8b77-fe4703a7521c",
   "metadata": {},
   "outputs": [
    {
     "data": {
      "text/plain": [
       "2"
      ]
     },
     "execution_count": 3,
     "metadata": {},
     "output_type": "execute_result"
    }
   ],
   "source": [
    "a"
   ]
  },
  {
   "cell_type": "markdown",
   "id": "5cfbcbfc-2829-49b7-9fb1-7532c3fd3673",
   "metadata": {},
   "source": [
    "Essa linha tem o valor da variável `a` em dobro"
   ]
  },
  {
   "cell_type": "code",
   "execution_count": 6,
   "id": "dab33c60-5a7f-44ca-aea8-62cbfd7cd47d",
   "metadata": {},
   "outputs": [
    {
     "data": {
      "text/plain": [
       "4"
      ]
     },
     "execution_count": 6,
     "metadata": {},
     "output_type": "execute_result"
    }
   ],
   "source": [
    "b = a*2\n",
    "b"
   ]
  },
  {
   "cell_type": "code",
   "execution_count": null,
   "id": "a0c02b8e-8159-4c73-b32f-12902f583f87",
   "metadata": {},
   "outputs": [],
   "source": []
  }
 ],
 "metadata": {
  "kernelspec": {
   "display_name": "Python 3 (ipykernel)",
   "language": "python",
   "name": "python3"
  },
  "language_info": {
   "codemirror_mode": {
    "name": "ipython",
    "version": 3
   },
   "file_extension": ".py",
   "mimetype": "text/x-python",
   "name": "python",
   "nbconvert_exporter": "python",
   "pygments_lexer": "ipython3",
   "version": "3.11.2"
  }
 },
 "nbformat": 4,
 "nbformat_minor": 5
}
